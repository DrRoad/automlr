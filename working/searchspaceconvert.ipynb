{
 "metadata": {
  "name": "",
  "signature": "sha256:b211dee9cf0d2e028606f7413b57c153a3395fe2c543094c909089cbd4d9803e"
 },
 "nbformat": 3,
 "nbformat_minor": 0,
 "worksheets": [
  {
   "cells": [
    {
     "cell_type": "code",
     "collapsed": false,
     "input": [
      "import itertools\n",
      "import re"
     ],
     "language": "python",
     "metadata": {},
     "outputs": [],
     "prompt_number": 28
    },
    {
     "cell_type": "code",
     "collapsed": false,
     "input": [
      "def reduceDescription(stringlist, info, debug=False):\n",
      "#    print(info)\n",
      "    varis = []\n",
      "    fixis = []\n",
      "    defis = []\n",
      "    state = \"pre\"\n",
      "    dstring = \"\"\n",
      "    for line in stringlist:\n",
      "        if not line:\n",
      "            continue\n",
      "#        print(line)\n",
      "        if state == \"exiting\":  # should have exited already\n",
      "            raise Error(\"should have exited. %s\" % (info,))\n",
      "        if debug:\n",
      "            dstring = line.strip(' -').split(\"::\")[1].strip()\n",
      "            if dstring.find(\"MANUAL\") < 0:  # if not manual, can strip some meta info\n",
      "                dstring = dstring.split(\":\", maxsplit=1)[1]\n",
      "                dstring = re.sub(r\"\\{[^}]*\\}\", \"\", dstring)\n",
      "                dstring = '  # ' + re.sub(r\"[^a-zA-Z]req:[^:]*\", \"\", dstring).strip()\n",
      "            else:\n",
      "                dbstring = \"\"\n",
      "        if line == \"**** Variable Parameters:\":\n",
      "            assert(not varis)\n",
      "            state = \"variable\"\n",
      "        elif line == \"**** Default Parameters:\":\n",
      "            assert(not defis)\n",
      "            state = \"default\"\n",
      "        elif line == \"**** Changed (fixed) Parameters:\":\n",
      "            assert(not fixis)\n",
      "            state = \"fixed\"\n",
      "        elif line.startswith(\"**** \"):\n",
      "            print(\"got unknown context line %s, continuing\" % (line,))\n",
      "        if line.startswith(\"**** \"):\n",
      "            continue\n",
      "        if line.startswith(\"** \"):\n",
      "            state = \"exiting\"\n",
      "            continue\n",
      "        if state == \"pre\":\n",
      "            if line.startswith('   -'):\n",
      "                raise Error(\"found indentation in pre context\")\n",
      "            else:\n",
      "                continue\n",
      "        assert(line.startswith('   -'))\n",
      "        if state == \"variable\":\n",
      "            varis.append(parsevari(line) + dstring)\n",
      "        elif state == \"fixed\":\n",
      "            fixis.append(parsefixi(line) + dstring)\n",
      "        elif state == \"default\":\n",
      "            defis.append(parsedefi(line) + dstring)\n",
      "        else:\n",
      "            print(\"out of state: '%s' in %s\" % (line, info))\n",
      "    return (varis, defis, fixis)"
     ],
     "language": "python",
     "metadata": {},
     "outputs": [],
     "prompt_number": 51
    },
    {
     "cell_type": "code",
     "collapsed": false,
     "input": [
      "def parsevari(line):\n",
      "    sides = line.strip(\" -\").split(\"::\")\n",
      "    assert(len(sides) == 2)\n",
      "    name = sides[0].strip()\n",
      "    info = sides[1].strip()\n",
      "    if info.find(\"MANUAL\") >= 0:\n",
      "        inner = re.search(\"MANUAL\\{[^}]*\\}\", info)\n",
      "        if inner:\n",
      "            return inner.group()[6:].strip(\"{}\")\n",
      "        else:\n",
      "            return '## sp(%s, ...) # %s' % tuple(sides)\n",
      "    idmatch = re.search(r\"\\{[^}]*\\}\", info)\n",
      "    if idmatch:\n",
      "        idstring = ', id=\"%s\"' % (idmatch.group().strip(\"{}\"),)\n",
      "    else:\n",
      "        idstring = \"\"\n",
      "    if info.find(\"DUMMY\") >= 0:\n",
      "        dummystring = \", dummy=TRUE\"\n",
      "    else:\n",
      "        dummystring = \"\"\n",
      "    reqposition = info.find(\"req:\")\n",
      "    if reqposition >= 0:\n",
      "        reqstring = info[reqposition + 4:]\n",
      "        reqstring = \", req=quote(%s)\" % reqstring.strip()\n",
      "    else:\n",
      "        reqstring = \"\"\n",
      "    lenmatch = re.search(r\"len\\([0-9]+\\)\", info)\n",
      "    if lenmatch:\n",
      "        lenstring = ', dim=%s' % (lenmatch.group().strip(\"len()\"),)\n",
      "    else:\n",
      "        lenstring = \"\"\n",
      "    if info.split(\":\")[0].find(\"..\") >= 0:  # range\n",
      "        intness = info.split(\":\")[0].find(\"int\") >= 0\n",
      "        info = info.strip(\"int \")\n",
      "        rng = info.split(\" \")[0].strip(\" ,:\").split(\"..\")\n",
      "        isexp = len(info.split(\" \")) > 1 and info.split(\" \")[1].find(\"exp\") >= 0\n",
      "        return 'sp(\"%s\", \"%s\", c(%s, %s)%s%s%s%s%s)' % (name,\n",
      "                                                    \"int\" if intness else \"real\",\n",
      "                                                    rng[0], rng[1], ', \"exp\"' if isexp else '',\n",
      "                                                    idstring, dummystring, reqstring, lenstring)\n",
      "    values = [x.strip() for x in info.split(\":\")[0].split(\",\")]\n",
      "    if len(values) == 2 and \"TRUE\" in values and \"FALSE\" in values:\n",
      "        return 'sp(\"%s\", \"bool\"%s%s%s%s)' % (name, idstring, dummystring, reqstring, lenstring)\n",
      "    if not all(re.match(r\"^[0-9.][-+e0-9.]*$\", x) for x in values):\n",
      "        values = ['\"%s\"' % (x,) for x in values]\n",
      "    return 'sp(\"%s\", \"cat\", c(%s)%s%s%s%s)' % (name, \", \".join(values),\n",
      "                                             idstring, dummystring, reqstring, lenstring)"
     ],
     "language": "python",
     "metadata": {},
     "outputs": [],
     "prompt_number": 52
    },
    {
     "cell_type": "code",
     "collapsed": false,
     "input": [
      "def parsefixi(line):\n",
      "    return parseone(line, \"fix\")\n",
      "def parsedefi(line):\n",
      "    return parseone(line, \"def\")"
     ],
     "language": "python",
     "metadata": {},
     "outputs": [],
     "prompt_number": 53
    },
    {
     "cell_type": "code",
     "collapsed": false,
     "input": [
      "def parseone(line, tp):\n",
      "    sides = line.strip(\" -\").split(\"::\")\n",
      "    assert(len(sides) == 2)\n",
      "    name = sides[0].strip()\n",
      "    info = sides[1].strip()\n",
      "    if info.find(\"MANUAL\") >= 0:\n",
      "        inner = re.search(\"MANUAL\\{[^}]*\\}\", info)\n",
      "        if inner:\n",
      "            return inner.group()[6:].strip(\"{}\")\n",
      "        else:\n",
      "            return '## sp(%s, ...) # %s' % tuple(sides)\n",
      "    assert(info.find('req:') == -1)\n",
      "    if info.find(\"DUMMY\") >= 0:\n",
      "        dummystring = \", dummy=TRUE\"\n",
      "    else:\n",
      "        dummystring = \"\"\n",
      "    assert(info.find('ONNA') == -1)\n",
      "    assert(not re.search(r\"\\{[^}]*\\}\",info))\n",
      "    val = re.findall(r\"[-+_a-zA-Z0-9.]+\", info)[0]\n",
      "    if not(val == \"TRUE\" or val == \"FALSE\" or val == \"NULL\"):\n",
      "        if not re.match(r\"^[0-9.][-+e0-9.]*\", val):\n",
      "            val = '\"%s\"' % val\n",
      "    return 'sp(\"%s\", \"%s\", %s%s)' % (name, tp, val, dummystring)"
     ],
     "language": "python",
     "metadata": {},
     "outputs": [],
     "prompt_number": 62
    },
    {
     "cell_type": "code",
     "collapsed": false,
     "input": [
      "def rdi(i):\n",
      "    return reduceDescription(clisted[i], cheadings[i])"
     ],
     "language": "python",
     "metadata": {},
     "outputs": [],
     "prompt_number": 63
    },
    {
     "cell_type": "code",
     "collapsed": false,
     "input": [
      "def makeDS(content):\n",
      "    return \"            \" + \",\\n            \".join(content)\n",
      "def completeOutput():\n",
      "    manuals = []\n",
      "    nonmanuals = []\n",
      "    for cl, ch in zip(clisted, cheadings):\n",
      "        varis, defis, fixis = reduceDescription(cl, ch)\n",
      "        hasmanual = any(x.startswith(\"##\") for x in itertools.chain(varis, defis, fixis))\n",
      "        completeString = '    autolearner(\"%s\"' % ch\n",
      "        css = []\n",
      "        if varis:\n",
      "            css.append(\"# ** vp\\n\" + makeDS(varis))\n",
      "        if fixis:\n",
      "            css.append(\"# ** cp\\n\" + makeDS(fixis))\n",
      "        if defis:\n",
      "            css.append(\"# ** dp\\n\" + makeDS(defis))\n",
      "        cscomplete = \",\\n\".join(css)\n",
      "        if cscomplete:\n",
      "            completeString += \",\\n        list(\\n\" + cscomplete + \")\"\n",
      "        completeString += \")\"\n",
      "        if hasmanual:\n",
      "            manuals.append(completeString)\n",
      "        else:\n",
      "            nonmanuals.append(completeString)\n",
      "    retstring = \"autolearners = makeNamedAlList(\\n\"\n",
      "    if manuals:\n",
      "        retstring += \"##### some adjustment required:\\n\" + \",\\n\".join(manuals)\n",
      "    if manuals and nonmanuals:\n",
      "        retstring += \"\\n\"\n",
      "    if nonmanuals:\n",
      "        retstring += \"##### automatically generated:\\n\" + \",\\n\".join(nonmanuals)\n",
      "    retstring += \")\"\n",
      "    return retstring\n",
      "        "
     ],
     "language": "python",
     "metadata": {},
     "outputs": [],
     "prompt_number": 64
    },
    {
     "cell_type": "code",
     "collapsed": false,
     "input": [
      "!cat learners.org | sed -n '/^\\* classif/,/^\\* regr/p' | tail -n +2 | head -n -1 > /tmp/xxxdsfaaafeaewf\n",
      "content = list(x.strip('\\n') for x in open('/tmp/xxxdsfaaafeaewf'))\n",
      "clisted = [list(x[1]) for x in itertools.groupby(content, lambda x: x.startswith('*** ')) if not x[0]]\n",
      "del clisted[0]\n",
      "cheadings = [x.strip(\"* \") for x in content if x.startswith('*** ')]"
     ],
     "language": "python",
     "metadata": {},
     "outputs": [],
     "prompt_number": 73
    },
    {
     "cell_type": "code",
     "collapsed": false,
     "input": [
      "f = open(\"tmp.R\", \"w\")\n",
      "f.write(completeOutput())"
     ],
     "language": "python",
     "metadata": {},
     "outputs": [
      {
       "metadata": {},
       "output_type": "pyout",
       "prompt_number": 74,
       "text": [
        "39066"
       ]
      }
     ],
     "prompt_number": 74
    },
    {
     "cell_type": "code",
     "collapsed": false,
     "input": [
      "parsevari('   - C :: .125..8 exp: {svm.c} constraint violation cost. req: type %in% c(\"C-svc\", \"C-bsvc\", \"spoc-svc\", \"kbb-svc\")')"
     ],
     "language": "python",
     "metadata": {},
     "outputs": [
      {
       "metadata": {},
       "output_type": "pyout",
       "prompt_number": 59,
       "text": [
        "'sp(\"C\", \"real\", c(.125, 8), \"exp\", id=\"svm.c\", req=quote(type %in% c(\"C-svc\", \"C-bsvc\", \"spoc-svc\", \"kbb-svc\")))'"
       ]
      }
     ],
     "prompt_number": 59
    },
    {
     "cell_type": "code",
     "collapsed": false,
     "input": [],
     "language": "python",
     "metadata": {},
     "outputs": []
    }
   ],
   "metadata": {}
  }
 ]
}