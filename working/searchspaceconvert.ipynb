{
 "cells": [
  {
   "cell_type": "code",
   "execution_count": 39,
   "metadata": {
    "collapsed": false
   },
   "outputs": [],
   "source": [
    "import itertools\n",
    "import re"
   ]
  },
  {
   "cell_type": "code",
   "execution_count": 40,
   "metadata": {
    "collapsed": true
   },
   "outputs": [],
   "source": [
    "outfile = \"../R/mlrLearners.R\"\n",
    "infile = \"learners.org\"\n",
    "prefixfile = \"learners.prefix\""
   ]
  },
  {
   "cell_type": "code",
   "execution_count": 41,
   "metadata": {
    "collapsed": false
   },
   "outputs": [],
   "source": [
    "def reduceDescription(stringlist, info, debug=False):\n",
    "#    print(info)\n",
    "    varis = []\n",
    "    fixis = []\n",
    "    defis = []\n",
    "    state = \"pre\"\n",
    "    dstring = \"\"\n",
    "    for line in stringlist:\n",
    "        if not line:\n",
    "            continue\n",
    "#        print(line)\n",
    "        if state == \"exiting\":  # should have exited already\n",
    "            raise Error(\"should have exited. %s\" % (info,))\n",
    "        if debug:\n",
    "            dstring = line.strip(' -').split(\"::\")[1].strip()\n",
    "            if dstring.find(\"MANUAL\") < 0:  # if not manual, can strip some meta info\n",
    "                dstring = dstring.split(\":\", maxsplit=1)[1]\n",
    "                dstring = re.sub(r\"\\{[^}]*\\}\", \"\", dstring)\n",
    "                dstring = '  # ' + re.sub(r\"[^a-zA-Z]req:[^:]*\", \"\", dstring).strip()\n",
    "            else:\n",
    "                dbstring = \"\"\n",
    "        if line == \"**** Variable Parameters:\":\n",
    "            assert(not varis)\n",
    "            state = \"variable\"\n",
    "        elif line == \"**** Default Parameters:\":\n",
    "            assert(not defis)\n",
    "            state = \"default\"\n",
    "        elif line == \"**** Changed (fixed) Parameters:\":\n",
    "            assert(not fixis)\n",
    "            state = \"fixed\"\n",
    "        elif line.startswith(\"**** \"):\n",
    "            print(\"got unknown context line %s, continuing\" % (line,))\n",
    "        if line.startswith(\"**** \"):\n",
    "            continue\n",
    "        if line.startswith(\"** \"):\n",
    "            state = \"exiting\"\n",
    "            continue\n",
    "        if state == \"pre\":\n",
    "            if line.startswith('   -'):\n",
    "                raise Error(\"found indentation in pre context\")\n",
    "            else:\n",
    "                continue\n",
    "        assert(line.startswith('   -'))\n",
    "        if state == \"variable\":\n",
    "            varis.append(parsevari(line) + dstring)\n",
    "        elif state == \"fixed\":\n",
    "            fixis.append(parsefixi(line) + dstring)\n",
    "        elif state == \"default\":\n",
    "            defis.append(parsedefi(line) + dstring)\n",
    "        else:\n",
    "            print(\"out of state: '%s' in %s\" % (line, info))\n",
    "    return (varis, defis, fixis)"
   ]
  },
  {
   "cell_type": "code",
   "execution_count": 42,
   "metadata": {
    "collapsed": false
   },
   "outputs": [],
   "source": [
    "def parsevari(line):\n",
    "    sides = line.strip(\" -\").split(\"::\")\n",
    "    assert(len(sides) == 2)\n",
    "    name = sides[0].strip()\n",
    "    info = sides[1].strip()\n",
    "    if info.find(\"MANUAL\") >= 0:\n",
    "        inner = re.search(\"MANUAL\\{[^}]*\\}\", info)\n",
    "        if inner:\n",
    "            return inner.group()[6:].strip(\"{}\")\n",
    "        else:\n",
    "            return '## sp(%s, ...) # %s' % tuple(sides)\n",
    "    idmatch = re.search(r\"\\{[^}]*\\}\", info)\n",
    "    if idmatch:\n",
    "        idstring = ', id = \"%s\"' % (idmatch.group().strip(\"{}\"),)\n",
    "    else:\n",
    "        idstring = \"\"\n",
    "    if info.find(\"DUMMY\") >= 0:\n",
    "        dummystring = ', special = \"dummy\"'\n",
    "        assert(info.find(\"INJECT\") == -1)\n",
    "    elif info.find(\"INJECT\") >= 0:\n",
    "        dummystring = ', special = \"inject\"'\n",
    "    else:\n",
    "        dummystring = \"\"\n",
    "    reqposition = info.find(\"req:\")\n",
    "    if reqposition >= 0:\n",
    "        reqstring = info[reqposition + 4:]\n",
    "        reqstring = \", req = quote(%s)\" % reqstring.strip()\n",
    "    else:\n",
    "        reqstring = \"\"\n",
    "    lenmatch = re.search(r\"len\\([0-9]+\\)\", info)\n",
    "    if lenmatch:\n",
    "        lenstring = ', dim = %s' % (lenmatch.group().strip(\"len()\"),)\n",
    "    else:\n",
    "        lenstring = \"\"\n",
    "    if info.split(\":\")[0].find(\"..\") >= 0:  # range\n",
    "        intness = info.split(\":\")[0].find(\"int\") >= 0\n",
    "        info = info.strip(\"int \")\n",
    "        rng = info.split(\" \")[0].strip(\" ,:\").split(\"..\")\n",
    "        isexp = len(info.split(\" \")) > 1 and info.split(\" \")[1].find(\"exp\") >= 0\n",
    "        return 'sp(\"%s\", \"%s\", c(%s, %s)%s%s%s%s%s)' % (name,\n",
    "                                                    \"int\" if intness else \"real\",\n",
    "                                                    rng[0], rng[1], ', \"exp\"' if isexp else '',\n",
    "                                                    idstring, dummystring, reqstring, lenstring)\n",
    "    values = [x.strip() for x in info.split(\":\")[0].split(\",\")]\n",
    "    if len(values) == 2 and \"TRUE\" in values and \"FALSE\" in values:\n",
    "        return 'sp(\"%s\", \"bool\"%s%s%s%s)' % (name, idstring, dummystring, reqstring, lenstring)\n",
    "    if not all(re.match(r\"^[0-9.][-+e0-9.]*$\", x) for x in values):\n",
    "        values = ['\"%s\"' % (x,) for x in values]\n",
    "    return 'sp(\"%s\", \"cat\", c(%s)%s%s%s%s)' % (name, \", \".join(values),\n",
    "                                             idstring, dummystring, reqstring, lenstring)"
   ]
  },
  {
   "cell_type": "code",
   "execution_count": 43,
   "metadata": {
    "collapsed": false
   },
   "outputs": [],
   "source": [
    "def parsefixi(line):\n",
    "    return parseone(line, \"fix\")\n",
    "def parsedefi(line):\n",
    "    return parseone(line, \"def\")"
   ]
  },
  {
   "cell_type": "code",
   "execution_count": 44,
   "metadata": {
    "collapsed": false
   },
   "outputs": [],
   "source": [
    "def parseone(line, tp):\n",
    "    sides = line.strip(\" -\").split(\"::\")\n",
    "    assert(len(sides) == 2)\n",
    "    name = sides[0].strip()\n",
    "    info = sides[1].strip()\n",
    "    if info.find(\"MANUAL\") >= 0:\n",
    "        inner = re.search(\"MANUAL\\{[^}]*\\}\", info)\n",
    "        if inner:\n",
    "            return inner.group()[6:].strip(\"{}\")\n",
    "        else:\n",
    "            return '## sp(%s, ...) # %s' % tuple(sides)\n",
    "    assert(info.find('req:') == -1)\n",
    "    if info.find(\"DUMMY\") >= 0:\n",
    "        dummystring = ', special = \"dummy\"'\n",
    "        assert(info.find(\"INJECT\") == -1)\n",
    "    elif info.find(\"INJECT\") >= 0:\n",
    "        dummystring = ', special = \"inject\"'\n",
    "    else:\n",
    "        dummystring = \"\"\n",
    "    assert(info.find('ONNA') == -1)\n",
    "    assert(not re.search(r\"\\{[^}]*\\}\",info))\n",
    "    val = re.findall(r\"[-+_a-zA-Z0-9.]+\", info)[0]\n",
    "    if not(val == \"TRUE\" or val == \"FALSE\" or val == \"NULL\"):\n",
    "        if not re.match(r\"^[0-9.][-+e0-9.]*\", val):\n",
    "            val = '\"%s\"' % val\n",
    "    return 'sp(\"%s\", \"%s\", %s%s)' % (name, tp, val, dummystring)"
   ]
  },
  {
   "cell_type": "code",
   "execution_count": 45,
   "metadata": {
    "collapsed": false
   },
   "outputs": [],
   "source": [
    "def rdi(i):\n",
    "    return reduceDescription(clisted[i], cheadings[i])"
   ]
  },
  {
   "cell_type": "code",
   "execution_count": 46,
   "metadata": {
    "collapsed": false
   },
   "outputs": [],
   "source": [
    "def makeDS(content):\n",
    "    return \"            \" + \",\\n            \".join(content)\n",
    "def completeOutput(includeManual):\n",
    "    manuals = []\n",
    "    nonmanuals = []\n",
    "    for cl, ch in zip(clisted, cheadings):\n",
    "        varis, defis, fixis = reduceDescription(cl, ch)\n",
    "        hasmanual = any(x.startswith(\"##\") for x in itertools.chain(varis, defis, fixis))\n",
    "        completeString = '    autolearner(\"%s\"' % ch\n",
    "        css = []\n",
    "        if varis:\n",
    "            css.append(\"# ** vp\\n\" + makeDS(varis))\n",
    "        if fixis:\n",
    "            css.append(\"# ** cp\\n\" + makeDS(fixis))\n",
    "        if defis:\n",
    "            css.append(\"# ** dp\\n\" + makeDS(defis))\n",
    "        cscomplete = \",\\n\".join(css)\n",
    "        if cscomplete:\n",
    "            completeString += \",\\n        list(\\n\" + cscomplete + \")\"\n",
    "        completeString += \")\"\n",
    "        if hasmanual:\n",
    "            manuals.append(completeString)\n",
    "        else:\n",
    "            nonmanuals.append(completeString)\n",
    "    retstring = \"autolearners = makeNamedAlList(\\n\"\n",
    "    if not includeManual:\n",
    "        manuals = []\n",
    "    if manuals:\n",
    "        retstring += \"##### some adjustment required:\\n\" + \",\\n\".join(manuals)\n",
    "    if manuals and nonmanuals:\n",
    "        retstring += \"\\n\"\n",
    "    if nonmanuals:\n",
    "        retstring += \"##### automatically generated:\\n\" + \",\\n\".join(nonmanuals)\n",
    "    retstring += \")\"\n",
    "    return retstring\n",
    "        "
   ]
  },
  {
   "cell_type": "code",
   "execution_count": 47,
   "metadata": {
    "collapsed": false
   },
   "outputs": [],
   "source": [
    "c = list(x.strip('\\n') for x in open(infile))\n",
    "for i, line in enumerate(c):\n",
    "    if line.startswith(\"* classif\"):\n",
    "        begin = i + 1\n",
    "    if line.startswith(\"* regr\"):\n",
    "        end = i\n",
    "content = c[begin:end]\n",
    "clisted = [list(x[1]) for x in itertools.groupby(content, lambda x: x.startswith('*** ')) if not x[0]]\n",
    "del clisted[0]\n",
    "cheadings = [x.strip(\"* \") for x in content if x.startswith('*** ')]"
   ]
  },
  {
   "cell_type": "code",
   "execution_count": 48,
   "metadata": {
    "collapsed": false
   },
   "outputs": [
    {
     "data": {
      "text/plain": [
       "35433"
      ]
     },
     "execution_count": 48,
     "metadata": {},
     "output_type": "execute_result"
    }
   ],
   "source": [
    "f = open(outfile, \"w\")\n",
    "for l in open(prefixfile):\n",
    "    f.write(l)\n",
    "f.write(completeOutput(False))"
   ]
  },
  {
   "cell_type": "code",
   "execution_count": null,
   "metadata": {
    "collapsed": false
   },
   "outputs": [],
   "source": []
  },
  {
   "cell_type": "code",
   "execution_count": null,
   "metadata": {
    "collapsed": false
   },
   "outputs": [],
   "source": []
  },
  {
   "cell_type": "code",
   "execution_count": null,
   "metadata": {
    "collapsed": false
   },
   "outputs": [],
   "source": []
  },
  {
   "cell_type": "code",
   "execution_count": null,
   "metadata": {
    "collapsed": false
   },
   "outputs": [],
   "source": []
  },
  {
   "cell_type": "code",
   "execution_count": null,
   "metadata": {
    "collapsed": false
   },
   "outputs": [],
   "source": []
  },
  {
   "cell_type": "code",
   "execution_count": null,
   "metadata": {
    "collapsed": false
   },
   "outputs": [],
   "source": []
  },
  {
   "cell_type": "code",
   "execution_count": null,
   "metadata": {
    "collapsed": false
   },
   "outputs": [],
   "source": []
  },
  {
   "cell_type": "code",
   "execution_count": null,
   "metadata": {
    "collapsed": true
   },
   "outputs": [],
   "source": []
  },
  {
   "cell_type": "code",
   "execution_count": null,
   "metadata": {
    "collapsed": true
   },
   "outputs": [],
   "source": []
  }
 ],
 "metadata": {
  "kernelspec": {
   "display_name": "Python 3",
   "language": "python",
   "name": "python3"
  },
  "language_info": {
   "codemirror_mode": {
    "name": "ipython",
    "version": 3
   },
   "file_extension": ".py",
   "mimetype": "text/x-python",
   "name": "python",
   "nbconvert_exporter": "python",
   "pygments_lexer": "ipython3",
   "version": "3.4.3"
  }
 },
 "nbformat": 4,
 "nbformat_minor": 0
}
